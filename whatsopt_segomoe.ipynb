{
 "cells": [
  {
   "cell_type": "markdown",
   "metadata": {},
   "source": [
    "# Tutorial SEGOMOE via web services"
   ]
  },
  {
   "cell_type": "markdown",
   "metadata": {},
   "source": [
    "This notebook describes the usage of segomoe using web services exposed by WhatsOpt."
   ]
  },
  {
   "cell_type": "markdown",
   "metadata": {},
   "source": [
    "## Prerequisite"
   ]
  },
  {
   "cell_type": "markdown",
   "metadata": {},
   "source": [
    "### wop (WhatsOpt command line interface)"
   ]
  },
  {
   "cell_type": "markdown",
   "metadata": {},
   "source": [
    "You have to install the wop command version > 1.5.1:"
   ]
  },
  {
   "cell_type": "markdown",
   "metadata": {},
   "source": [
    "```bash\n",
    "pip install -U wop\n",
    "```"
   ]
  },
  {
   "cell_type": "markdown",
   "metadata": {},
   "source": [
    "You need to be logged in a WhatsOpt server either by using the <code>wop</code> command in a shell or the WhatsOpt API as follows:"
   ]
  },
  {
   "cell_type": "code",
   "execution_count": 1,
   "metadata": {},
   "outputs": [
    {
     "name": "stdout",
     "output_type": "stream",
     "text": [
      "You have to set your API key.\n",
      "You can get it in your profile page on WhatsOpt (https://ether.onera.fr/whatsopt).\n",
      "Please, copy/paste your API key below then hit return (characters are hidden).\n",
      "Your API key: ········\n",
      "Successfully logged into WhatsOpt (https://ether.onera.fr/whatsopt)\n"
     ]
    }
   ],
   "source": [
    "from whatsopt.whatsopt_client import WhatsOpt\n",
    "wop = WhatsOpt(url=\"https://ether.onera.fr/whatsopt\")\n",
    "ok = wop.login(echo=True)\n",
    "\n",
    "# If you have any trouble with the previous command \n",
    "# then logout to ensure to start from a clean slate and retry\n",
    "if not ok: \n",
    "    wop.logout() "
   ]
  },
  {
   "cell_type": "markdown",
   "metadata": {},
   "source": [
    "To test if you are connected the following command should succeed"
   ]
  },
  {
   "cell_type": "code",
   "execution_count": 2,
   "metadata": {},
   "outputs": [
    {
     "name": "stdout",
     "output_type": "stream",
     "text": [
      "WhatsOpt 1.7.0 requires wop >= 1.6.0\n",
      "You use wop 1.6.0\n"
     ]
    }
   ],
   "source": [
    "wop.check_versions()"
   ]
  },
  {
   "cell_type": "markdown",
   "metadata": {},
   "source": [
    "### SMT (Surrogate Modeling Toolbox)"
   ]
  },
  {
   "cell_type": "markdown",
   "metadata": {},
   "source": [
    "SMT is not required per se, but is used in this notebook to get optimized LHS sampling method."
   ]
  },
  {
   "cell_type": "markdown",
   "metadata": {},
   "source": [
    "```bash\n",
    "pip install smt\n",
    "```"
   ]
  },
  {
   "cell_type": "markdown",
   "metadata": {},
   "source": [
    "## Optimization without constraint"
   ]
  },
  {
   "cell_type": "markdown",
   "metadata": {},
   "source": [
    "### Objective function\n",
    "\n",
    "First we define the objective function we want to minimize"
   ]
  },
  {
   "cell_type": "code",
   "execution_count": 3,
   "metadata": {},
   "outputs": [],
   "source": [
    "import numpy as np\n",
    "\n",
    "def f_obj(x):\n",
    "    \"\"\"\n",
    "    Function Six-Hump Camel Back\n",
    "    2 global optimum y_opt =-1.0316 located at x_opt = (0.089842, -0.712656) or (-0.089842, 0.712656)\n",
    "    https://www.sfu.ca/~ssurjano/camel6.html\n",
    "    \"\"\"\n",
    "    x_ = np.atleast_2d(x)\n",
    "    x1 = np.array(x_)[:, 0]\n",
    "    x2 = np.array(x_)[:, 1]\n",
    "    val = 4*x1**2-2.1*x1**4+1./3.*x1**6+x1*x2-4*x2**2+4*x2**4\n",
    "    return np.atleast_2d(val).T"
   ]
  },
  {
   "cell_type": "markdown",
   "metadata": {},
   "source": [
    "### Optimization"
   ]
  },
  {
   "cell_type": "markdown",
   "metadata": {},
   "source": [
    "First we create an optimization context to use the SEGOMOE optimizer with the design space <code>xlimits</code>."
   ]
  },
  {
   "cell_type": "code",
   "execution_count": 4,
   "metadata": {},
   "outputs": [],
   "source": [
    "from whatsopt.optimization import Optimization, ValidOptimumNotFoundError\n",
    "\n",
    "xlimits = [[-3, 3], [-2, 2]]\n",
    "optim = Optimization(xlimits)"
   ]
  },
  {
   "cell_type": "markdown",
   "metadata": {},
   "source": [
    "We need to have an initial DOE (n_samples, nx) and the corresponding outputs y (n_samples, 1)."
   ]
  },
  {
   "cell_type": "code",
   "execution_count": 5,
   "metadata": {},
   "outputs": [
    {
     "name": "stdout",
     "output_type": "stream",
     "text": [
      "Initial DOE\n",
      "xdoe=[[-0.91502224  1.89017506]\n",
      " [ 2.57253436  0.83786997]\n",
      " [-2.32304511 -1.12821447]\n",
      " [ 1.65152355 -1.63067708]\n",
      " [ 0.0057155  -0.31036381]]\n",
      "ydoe=[[37.11048572]\n",
      " [32.43194792]\n",
      " [16.82595609]\n",
      " [17.00496851]\n",
      " [-0.34983144]]\n"
     ]
    }
   ],
   "source": [
    "import numpy as np\n",
    "# from smt.sampling_methods import LHS\n",
    "# lhs = LHS(xlimits=np.array(xlimits), criterion='ese')\n",
    "# xdoe = lhs(5)\n",
    "\n",
    "xdoe = np.array([[-0.91502224,  1.89017506],\n",
    " [ 2.57253436,  0.83786997],\n",
    " [-2.32304511, -1.12821447],\n",
    " [ 1.65152355, -1.63067708],\n",
    " [ 0.0057155,  -0.31036381]])\n",
    "ydoe = f_obj(xdoe)\n",
    "print(\"Initial DOE\")\n",
    "print(\"xdoe={}\".format(xdoe))\n",
    "print(\"ydoe={}\".format(ydoe))"
   ]
  },
  {
   "cell_type": "markdown",
   "metadata": {},
   "source": [
    "We initialize the optimizer with the inital DOE."
   ]
  },
  {
   "cell_type": "code",
   "execution_count": 6,
   "metadata": {},
   "outputs": [],
   "source": [
    "optim.tell_doe(xdoe, ydoe)"
   ]
  },
  {
   "cell_type": "markdown",
   "metadata": {},
   "source": [
    "We trigger the optimization using the \"ask and tell\" interface."
   ]
  },
  {
   "cell_type": "code",
   "execution_count": 7,
   "metadata": {},
   "outputs": [
    {
     "name": "stdout",
     "output_type": "stream",
     "text": [
      "0 x suggested = [0.5309094350878436, -0.39114866393954895] with status: valid point\n",
      "new y = [[0.24206253]]\n",
      "y_opt_tmp = -0.34983143933877303\n",
      "\n",
      "1 x suggested = [-0.4466766342534265, -0.3472006102797744] with status: valid point\n",
      "new y = [[0.44815116]]\n",
      "y_opt_tmp = -0.34983143933877303\n",
      "\n",
      "2 x suggested = [0.1730691365796534, -0.21557635754274626] with status: valid point\n",
      "new y = [[-0.09662667]]\n",
      "y_opt_tmp = -0.34983143933877303\n",
      "\n",
      "3 x suggested = [0.0791748807123272, -0.3408412318094282] with status: valid point\n",
      "new y = [[-0.41270041]]\n",
      "y_opt_tmp = -0.41270041086970694\n",
      "\n",
      "4 x suggested = [0.07925839855527265, -0.4089605334133059] with status: valid point\n",
      "new y = [[-0.56447511]]\n",
      "y_opt_tmp = -0.5644751069646898\n",
      "\n",
      "5 x suggested = [0.10812241560218994, -0.7580541900927706] with status: valid point\n",
      "new y = [[-1.0131991]]\n",
      "y_opt_tmp = -1.0131990969429896\n",
      "\n",
      "6 x suggested = [-0.4736146787626916, -1.586494282055799] with status: valid point\n",
      "new y = [[16.8193071]]\n",
      "y_opt_tmp = -1.0131990969429896\n",
      "\n",
      "7 x suggested = [0.15547699185602262, -0.6987642108915799] with status: valid point\n",
      "new y = [[-1.01262154]]\n",
      "y_opt_tmp = -1.0131990969429896\n",
      "\n",
      "8 x suggested = [0.009341916985422595, -0.7057535230883601] with status: valid point\n",
      "new y = [[-1.0062294]]\n",
      "y_opt_tmp = -1.0131990969429896\n",
      "\n",
      "9 x suggested = [0.09124166081235811, -0.7109607412592676] with status: valid point\n",
      "new y = [[-1.03159495]]\n",
      "y_opt_tmp = -1.0315949544643392\n",
      "\n",
      "10 x suggested = [0.09013687557326538, -0.7132663029728503] with status: valid point\n",
      "new y = [[-1.03162525]]\n",
      "y_opt_tmp = -1.0316252456323411\n",
      "\n",
      "11 x suggested = [0.09048233856262576, -0.7124494980938922] with status: valid point\n",
      "new y = [[-1.03162637]]\n",
      "y_opt_tmp = -1.0316263722282744\n",
      "\n",
      "12 x suggested = [0.09031780492556399, -0.7129889594876209] with status: valid point\n",
      "new y = [[-1.03162682]]\n",
      "y_opt_tmp = -1.0316268231532018\n",
      "\n",
      "13 x suggested = [0.09028976717646728, -0.7124555221150239] with status: valid point\n",
      "new y = [[-1.03162725]]\n",
      "y_opt_tmp = -1.0316272516380196\n",
      "\n",
      "14 x suggested = [0.08725179204717905, -0.7123353704921319] with status: valid point\n",
      "new y = [[-1.03160227]]\n",
      "y_opt_tmp = -1.0316272516380196\n",
      "\n",
      "Found minimum y_opt = -1.0316272516380196 at x_opt = [ 0.09028977 -0.71245552]\n"
     ]
    }
   ],
   "source": [
    "# We loop using the iteration budget\n",
    "n_iter = 15\n",
    "for i in range(n_iter):\n",
    "    x_suggested, status = optim.ask()\n",
    "    print(\"{} x suggested = {} with status: {}\".format(i, x_suggested, Optimization.STATUSES[status]))\n",
    "\n",
    "    # compute objective function at the suggested point\n",
    "    new_y = f_obj(np.atleast_2d(x_suggested))\n",
    "    print(\"new y = {}\".format(new_y))\n",
    "\n",
    "    optim.tell(x_suggested, new_y)\n",
    "    if optim.is_solution_reached():\n",
    "        print(\"Solution is reached\")\n",
    "        break\n",
    "        \n",
    "    try:\n",
    "        _, y = optim.get_result()\n",
    "        print(\"y_opt_tmp = {}\".format(y))\n",
    "        print()\n",
    "    except ValidOptimumNotFoundError:  # in case no point in doe respect constraints yet\n",
    "        pass\n",
    "\n",
    "\n",
    "x_opt, y_opt = optim.get_result()\n",
    "print(\"Found minimum y_opt = {} at x_opt = {}\".format(y_opt, x_opt))"
   ]
  },
  {
   "cell_type": "code",
   "execution_count": 8,
   "metadata": {},
   "outputs": [
    {
     "data": {
      "text/plain": [
       "(array([ 0.09028977, -0.71245552]), -1.0316272516380196)"
      ]
     },
     "execution_count": 8,
     "metadata": {},
     "output_type": "execute_result"
    }
   ],
   "source": [
    "optim.get_result()"
   ]
  },
  {
   "cell_type": "code",
   "execution_count": 9,
   "metadata": {},
   "outputs": [
    {
     "data": {
      "text/plain": [
       "(array([[-0.91502224,  1.89017506],\n",
       "        [ 2.57253436,  0.83786997],\n",
       "        [-2.32304511, -1.12821447],\n",
       "        [ 1.65152355, -1.63067708],\n",
       "        [ 0.0057155 , -0.31036381],\n",
       "        [ 0.53090944, -0.39114866],\n",
       "        [-0.44667663, -0.34720061],\n",
       "        [ 0.17306914, -0.21557636],\n",
       "        [ 0.07917488, -0.34084123],\n",
       "        [ 0.0792584 , -0.40896053],\n",
       "        [ 0.10812242, -0.75805419],\n",
       "        [-0.47361468, -1.58649428],\n",
       "        [ 0.15547699, -0.69876421],\n",
       "        [ 0.00934192, -0.70575352],\n",
       "        [ 0.09124166, -0.71096074],\n",
       "        [ 0.09013688, -0.7132663 ],\n",
       "        [ 0.09048234, -0.7124495 ],\n",
       "        [ 0.0903178 , -0.71298896],\n",
       "        [ 0.09028977, -0.71245552],\n",
       "        [ 0.08725179, -0.71233537]]), array([[37.11048572],\n",
       "        [32.43194792],\n",
       "        [16.82595609],\n",
       "        [17.00496851],\n",
       "        [-0.34983144],\n",
       "        [ 0.24206253],\n",
       "        [ 0.44815116],\n",
       "        [-0.09662667],\n",
       "        [-0.41270041],\n",
       "        [-0.56447511],\n",
       "        [-1.0131991 ],\n",
       "        [16.8193071 ],\n",
       "        [-1.01262154],\n",
       "        [-1.0062294 ],\n",
       "        [-1.03159495],\n",
       "        [-1.03162525],\n",
       "        [-1.03162637],\n",
       "        [-1.03162682],\n",
       "        [-1.03162725],\n",
       "        [-1.03160227]]))"
      ]
     },
     "execution_count": 9,
     "metadata": {},
     "output_type": "execute_result"
    }
   ],
   "source": [
    "optim.get_history()"
   ]
  },
  {
   "cell_type": "markdown",
   "metadata": {},
   "source": [
    "For convenience, the previous optimization loop is available as the <code>run</code> method of the optimization object."
   ]
  },
  {
   "cell_type": "code",
   "execution_count": 10,
   "metadata": {},
   "outputs": [],
   "source": [
    "# to reset the initial DOE, otherwise optimization will go on from previous state\n",
    "# optim.tell_doe(xdoe, ydoe)\n",
    "\n",
    "# run the optimization loop again\n",
    "# optim.run(f_obj, 15)"
   ]
  },
  {
   "cell_type": "markdown",
   "metadata": {},
   "source": [
    "## Optimization with constraints"
   ]
  },
  {
   "cell_type": "markdown",
   "metadata": {},
   "source": [
    "### Objective and constraints functions"
   ]
  },
  {
   "cell_type": "markdown",
   "metadata": {},
   "source": [
    "We define objective and constraints function and we build a grouped function which allows to evaluate all in one go."
   ]
  },
  {
   "cell_type": "code",
   "execution_count": 11,
   "metadata": {},
   "outputs": [],
   "source": [
    "# Objective\n",
    "def G24(point):\n",
    "    \"\"\"\n",
    "    Function G24\n",
    "    1 global optimum y_opt = -5.5080 at x_opt =(2.3295, 3.1785)\n",
    "    \"\"\"\n",
    "    p = np.atleast_2d(point)\n",
    "    return - p[:, 0] - p[:, 1]\n",
    "\n",
    "# Constraints < 0\n",
    "def G24_c1(point):\n",
    "    p = np.atleast_2d(point)\n",
    "    return (- 2.0 * p[:, 0] ** 4.0\n",
    "            + 8.0 * p[:, 0] ** 3.0 \n",
    "            - 8.0 * p[:, 0] ** 2.0 \n",
    "            + p[:, 1] - 2.0)\n",
    "\n",
    "def G24_c2(point):\n",
    "    p = np.atleast_2d(point)\n",
    "    return (-4.0 * p[:, 0] ** 4.0\n",
    "            + 32.0 * p[:, 0] ** 3.0\n",
    "            - 88.0 * p[:, 0] ** 2.0\n",
    "            + 96.0 * p[:, 0]\n",
    "            + p[:, 1] - 36.0)\n",
    "\n",
    "# Grouped evaluation\n",
    "def f_grouped(point):\n",
    "    p = np.atleast_2d(point)\n",
    "    return np.array([G24(p), G24_c1(p), G24_c2(p)]).T"
   ]
  },
  {
   "cell_type": "markdown",
   "metadata": {},
   "source": [
    "### Optimization"
   ]
  },
  {
   "cell_type": "markdown",
   "metadata": {},
   "source": [
    "First we create an optimization context to use the SEGOMOE optimizer with the design space <code>xlimits</code> and the constraints specifications <code>cstr_specs</code>."
   ]
  },
  {
   "cell_type": "code",
   "execution_count": 12,
   "metadata": {},
   "outputs": [],
   "source": [
    "from whatsopt.optimization import Optimization, ValidOptimumNotFoundError\n",
    "\n",
    "xlimits = [[0, 3], [0, 4]]\n",
    "cstr_specs = 2*[{\"type\": '<', \"bound\": 0.0}]\n",
    "optim = Optimization(xlimits, cstr_specs)"
   ]
  },
  {
   "cell_type": "markdown",
   "metadata": {},
   "source": [
    "Constraint type can be iether <code><</code>, <code>=</code> or <code>></code>. A tolerance may be specified using the <code>tol</code> key. Constraints defaults are :"
   ]
  },
  {
   "cell_type": "code",
   "execution_count": 13,
   "metadata": {},
   "outputs": [
    {
     "name": "stdout",
     "output_type": "stream",
     "text": [
      "{'type': '<', 'bound': 0.0, 'tol': 0.0001}\n"
     ]
    }
   ],
   "source": [
    "print(Optimization.DEFAULT_CSTR)"
   ]
  },
  {
   "cell_type": "code",
   "execution_count": 14,
   "metadata": {},
   "outputs": [
    {
     "name": "stdout",
     "output_type": "stream",
     "text": [
      "Initial DOE\n",
      "xdoe=[[0.56130018 1.81171388]\n",
      " [1.92650023 2.60612985]\n",
      " [2.51029511 1.48097475]\n",
      " [1.20278127 0.12642011]\n",
      " [0.61950511 3.89770178]]\n",
      "ydoe=[[-2.37301406 -1.4925358  -2.76666358]\n",
      " [-4.53263008  0.56603024 -1.35076916]\n",
      " [-3.99126986 -3.80090281 -0.70705137]\n",
      " [-1.32920138 -3.71248066 -0.40485263]\n",
      " [-4.51720689  0.43488684  0.61605257]]\n"
     ]
    }
   ],
   "source": [
    "import numpy as np\n",
    "from smt.sampling_methods import LHS\n",
    "lhs = LHS(xlimits=np.array(xlimits), criterion='ese')\n",
    "\n",
    "xdoe = lhs(5)\n",
    "ydoe = f_grouped(xdoe)\n",
    "print(\"Initial DOE\")\n",
    "print(\"xdoe={}\".format(xdoe))\n",
    "print(\"ydoe={}\".format(ydoe))"
   ]
  },
  {
   "cell_type": "code",
   "execution_count": 15,
   "metadata": {},
   "outputs": [],
   "source": [
    "optim.tell_doe(xdoe, ydoe)"
   ]
  },
  {
   "cell_type": "code",
   "execution_count": 16,
   "metadata": {},
   "outputs": [
    {
     "name": "stdout",
     "output_type": "stream",
     "text": [
      "0 x suggested = [2.3376279820463717, 4.0] with status: valid point\n",
      "new y = [[-6.33762798  0.75417324  0.85996393]]\n",
      "y_opt_tmp = [-3.99126986 -3.80090281 -0.70705137]\n",
      "\n",
      "1 x suggested = [3.0, 4.0] with status: valid point\n",
      "new y = [[ -7. -16.   4.]]\n",
      "y_opt_tmp = [-3.99126986 -3.80090281 -0.70705137]\n",
      "\n",
      "2 x suggested = [1.8666481829594432, 4.0] with status: valid point\n",
      "new y = [[-5.86664818  1.87607674  0.14099676]]\n",
      "y_opt_tmp = [-3.99126986 -3.80090281 -0.70705137]\n",
      "\n",
      "3 x suggested = [2.3550509817662024, 3.142629113017674] with status: valid point\n",
      "new y = [[-5.49768009 -0.25570856  0.08755301]]\n",
      "y_opt_tmp = [-3.99126986 -3.80090281 -0.70705137]\n",
      "\n",
      "4 x suggested = [2.337805473968435, 3.1215621504914854] with status: valid point\n",
      "new y = [[-5.45936762 -0.12576422 -0.01762423]]\n",
      "y_opt_tmp = [-5.45936762 -0.12576422 -0.01762423]\n",
      "\n",
      "5 x suggested = [2.3300516162694165, 3.170936100529563] with status: valid point\n",
      "new y = [[-5.50098772e+00 -1.19006430e-02 -5.05787016e-03]]\n",
      "y_opt_tmp = [-5.50098772e+00 -1.19006430e-02 -5.05787016e-03]\n",
      "\n",
      "6 x suggested = [2.329532328579564, 3.1784190973373203] with status: valid point\n",
      "new y = [[-5.50795143e+00 -1.73024574e-04 -1.69618024e-05]]\n",
      "y_opt_tmp = [-5.50795143e+00 -1.73024574e-04 -1.69618024e-05]\n",
      "\n",
      "7 x suggested = [2.329519940061043, 3.1784958006770534] with status: valid point\n",
      "new y = [[-5.50801574e+00  4.82825441e-06  1.51674423e-06]]\n",
      "y_opt_tmp = [-5.50801574e+00  4.82825441e-06  1.51674423e-06]\n",
      "\n",
      "8 x suggested = [2.329520126813219, 3.1784934520922867] with status: valid point\n",
      "new y = [[-5.50801358e+00  9.54919027e-07  4.58636009e-08]]\n",
      "Value [2.329520126813219, 3.1784934520922867] already told index 12 with y = [-5.50801574e+00  4.82825441e-06  1.51674423e-06]\n",
      "Solution is reached\n",
      "Found minimum y_opt = [-5.50801574e+00  4.82825441e-06  1.51674423e-06] at x_opt = [2.32951994 3.1784958 ]\n"
     ]
    },
    {
     "data": {
      "text/plain": [
       "(array([2.32951994, 3.1784958 ]),\n",
       " array([-5.50801574e+00,  4.82825441e-06,  1.51674423e-06]))"
      ]
     },
     "execution_count": 16,
     "metadata": {},
     "output_type": "execute_result"
    }
   ],
   "source": [
    "optim.run(f_grouped, n_iter=20)"
   ]
  },
  {
   "cell_type": "markdown",
   "metadata": {},
   "source": [
    "Note: if the suggested x has already been told or very close a previous suggestion (see <code>numpy.allclose</code>), the solution is considered to be reached."
   ]
  },
  {
   "cell_type": "code",
   "execution_count": null,
   "metadata": {},
   "outputs": [],
   "source": []
  }
 ],
 "metadata": {
  "kernelspec": {
   "display_name": "Python 3",
   "language": "python",
   "name": "python3"
  },
  "language_info": {
   "codemirror_mode": {
    "name": "ipython",
    "version": 3
   },
   "file_extension": ".py",
   "mimetype": "text/x-python",
   "name": "python",
   "nbconvert_exporter": "python",
   "pygments_lexer": "ipython3",
   "version": "3.7.3"
  }
 },
 "nbformat": 4,
 "nbformat_minor": 2
}
