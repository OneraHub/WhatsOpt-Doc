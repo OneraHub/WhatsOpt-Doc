{
 "cells": [
  {
   "cell_type": "markdown",
   "metadata": {},
   "source": [
    "# WhatsOpt Tutorial - Part 3"
   ]
  },
  {
   "cell_type": "markdown",
   "metadata": {},
   "source": [
    "## Advanced features\n",
    "\n",
    "### Prerequisite\n",
    "\n",
    "You are logged in WhatsOpt with <code>wop</code>. See WhatsOpt Tutorial - Part 2\n",
    "\n",
    "### From source code to WhatsOpt\n",
    "\n",
    "As we saw in previous parts, we are able to generate OpenMDAO source code from an analysis defined in WhatsOpt. We are going to see that we can do the other way around.\n",
    "\n",
    "With certain limitations explained below, we can create an analysis in WhatsOpt from an OpenMDAO source code, especially when the later one is originated from WhatsOpt.\n",
    "\n",
    "The wop command allowing to so is <code>wop push <file.py></code>, where <file.py> is an Python file containing an OpenMDAO Problem setup. To experiment you can use the sellar code in examples directory.\n",
    "\n",
    "```bash\n",
    "cd examples/sellar\n",
    "wop push sellar.py\n",
    "```\n",
    "\n",
    "Then you can observe that a new analysis is available in WhatsOpt _Analyses_ page list. This new analysis is a duplicate of the Sellar analysis we built manually in the Part 1 of this tutorial.\n",
    "\n",
    "Following a top-down approach where the ideal analysis is designed not depending on existing implementations, WhatsOpt main assumption is that variable names are visible globally (i.e. all needed variables are promoted). And indeed, the analysis building process within WhatsOpt ensures that variable names are unique.\n",
    "\n",
    "<strong>So OpenMDAO code that does not follow that principle will not work. In other words, presence of connections defined with <code>connect</code> will not work.</strong>\n",
    "\n",
    "### Analysis Server\n",
    "\n",
    "To be completed...\n",
    "\n",
    "### Operations Management\n",
    "\n",
    "To be completed...\n"
   ]
  },
  {
   "cell_type": "code",
   "execution_count": null,
   "metadata": {},
   "outputs": [],
   "source": []
  }
 ],
 "metadata": {
  "kernelspec": {
   "display_name": "Python 3",
   "language": "python",
   "name": "python3"
  },
  "language_info": {
   "codemirror_mode": {
    "name": "ipython",
    "version": 3
   },
   "file_extension": ".py",
   "mimetype": "text/x-python",
   "name": "python",
   "nbconvert_exporter": "python",
   "pygments_lexer": "ipython3",
   "version": "3.6.5"
  }
 },
 "nbformat": 4,
 "nbformat_minor": 2
}
