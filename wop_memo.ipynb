{
 "cells": [
  {
   "cell_type": "markdown",
   "metadata": {},
   "source": [
    "# WhatsOpt command line memo\n",
    "\n",
    "## Log in/out to/from WhatOpt server _https://ether.onera.fr/whatsopt_\n",
    "```bash\n",
    "wop login https://ether.onera.fr/whatsopt\n",
    "```\n",
    "```bash\n",
    "wop logout\n",
    "```\n",
    "\n",
    "## List available analyses getting their id, name and creation date\n",
    "```bash\n",
    "wop list\n",
    "```\n",
    "\n",
    "## Generate code from an analysis with id _42_ (which becomes the _reference analysis_)\n",
    "```bash\n",
    "wop pull 42\n",
    "```\n",
    "\n",
    "## Update code following a change in WhatOpt reference analysis\n",
    "```bash\n",
    "wop update\n",
    "```\n",
    "\n",
    "## Change reference analysis from which the code is updated to use analysis with id _43_\n",
    "```bash\n",
    "wop update --analysis-id 43\n",
    "```\n",
    "\n",
    "## Import an analysis used from an OpenMDAO problem used in _program.py_\n",
    "```bash\n",
    "wop push <program.py>\n",
    "```\n",
    "\n",
    "## Copy and get ownership of analysis named _mda_ with id _42_\n",
    "```bash\n",
    "wop pull 42\n",
    "wop push mda.py  # -> create new analysis 43\n",
    "wop update --analysis-id 43\n",
    "```"
   ]
  },
  {
   "cell_type": "code",
   "execution_count": null,
   "metadata": {},
   "outputs": [],
   "source": []
  }
 ],
 "metadata": {
  "kernelspec": {
   "display_name": "Python 3",
   "language": "python",
   "name": "python3"
  },
  "language_info": {
   "codemirror_mode": {
    "name": "ipython",
    "version": 3
   },
   "file_extension": ".py",
   "mimetype": "text/x-python",
   "name": "python",
   "nbconvert_exporter": "python",
   "pygments_lexer": "ipython3",
   "version": "3.6.5"
  }
 },
 "nbformat": 4,
 "nbformat_minor": 2
}
